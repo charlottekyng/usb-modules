{
 "cells": [
  {
   "cell_type": "markdown",
   "metadata": {},
   "source": [
    "# Recurrent non-synonymous mutations as determined by SUFAM"
   ]
  },
  {
   "cell_type": "code",
   "execution_count": null,
   "metadata": {
    "collapsed": false
   },
   "outputs": [],
   "source": [
    "import pandas as pd\n",
    "import numpy as np\n",
    "import glob\n",
    "import os\n",
    "%matplotlib inline\n",
    "import seaborn as sns"
   ]
  },
  {
   "cell_type": "code",
   "execution_count": null,
   "metadata": {
    "collapsed": false
   },
   "outputs": [],
   "source": [
    "INPUT_FILES = {\n",
    "    # should be all samples run through sufam on set of all NS mutations in all samples\n",
    "    \"sufam\":\"ALL_SUFAM\",\n",
    "    # should be the vcf as supplied to sufam with annotations\n",
    "    \"ann\":\"SUFAM_ANNOTATIONS_VCF\"\n",
    "}"
   ]
  },
  {
   "cell_type": "code",
   "execution_count": null,
   "metadata": {
    "collapsed": false
   },
   "outputs": [],
   "source": [
    "PARAMETERS = {\n",
    "    # should be a number, show only genes/mutations with x number of samples supporting it\n",
    "    \"min_nr_samples_with_mutation\":int(\"MIN_NR_SAMPLES_WITH_MUTATION\"),\n",
    "    # should be a list of names\n",
    "    \"sample_order\":\"SAMPLE_ORDER\".split()\n",
    "}"
   ]
  },
  {
   "cell_type": "code",
   "execution_count": null,
   "metadata": {
    "collapsed": false
   },
   "outputs": [],
   "source": [
    "df = pd.read_csv(INPUT_FILES[\"sufam\"], dtype={\"chrom\":str}, sep=\"\\t\")"
   ]
  },
  {
   "cell_type": "code",
   "execution_count": null,
   "metadata": {
    "collapsed": false
   },
   "outputs": [],
   "source": [
    "dfa = df.join(pd.read_csv(INPUT_FILES[\"ann\"], dtype={\"#CHROM\":str}, sep=\"\\t\", na_values=\".\")\\\n",
    "        .drop(\"ID\", axis=1)\\\n",
    "        .rename(columns={\"#CHROM\":\"chrom\",\n",
    "                         \"REF\":\"val_ref\",\n",
    "                         \"ALT\":\"val_alt\",\n",
    "                         \"POS\":\"pos\"})\\\n",
    "        .set_index(\"chrom pos val_ref val_alt\".split()),\n",
    "        on=[\"chrom\",\"pos\",\"val_ref\",\"val_alt\"])"
   ]
  },
  {
   "cell_type": "code",
   "execution_count": null,
   "metadata": {
    "collapsed": false
   },
   "outputs": [],
   "source": [
    "split = pd.DataFrame(dfa[\"ANN[*].GENE\"].str.split(\"|\").tolist(), index=dfa.index).stack()\n",
    "split.name = \"GENE_SPLIT\"\n",
    "split.index = split.index.droplevel(-1)\n",
    "dfa_split = dfa.join(pd.DataFrame({\"GENE_SPLIT\":split,\n",
    "              \"IMPACT_SPLIT\":[s for l in dfa[\"ANN[*].IMPACT\"].str.split(\"|\").tolist() for s in l]}, index=split.index))\n",
    "dfa_split.index = list(range(len(dfa_split)))"
   ]
  },
  {
   "cell_type": "markdown",
   "metadata": {},
   "source": [
    "## Do the samples have NS mutation(s) in the same gene?"
   ]
  },
  {
   "cell_type": "code",
   "execution_count": null,
   "metadata": {
    "collapsed": false
   },
   "outputs": [],
   "source": [
    "gene_count = dfa_split[dfa_split[\"IMPACT_SPLIT\"].isin([\"MODERATE\", \"HIGH\"]) & (dfa_split.val_maf > 0)].groupby([\"sample\", \"GENE_SPLIT\"]).chrom.count().unstack(\"sample\").fillna(0)\n",
    "gene_count = gene_count.reindex_axis(PARAMETERS[\"sample_order\"], axis=1)"
   ]
  },
  {
   "cell_type": "code",
   "execution_count": null,
   "metadata": {
    "collapsed": false
   },
   "outputs": [],
   "source": [
    "sns.clustermap(gene_count.astype(bool)[gene_count.astype(bool).apply(lambda x: x.sum(), axis = 1) >= PARAMETERS[\"min_nr_samples_with_mutation\"]],\n",
    "               row_cluster=False, col_cluster=False, figsize=[12, 12])\n",
    "sns.plt.title(\"Mutation existence in gene\")"
   ]
  },
  {
   "cell_type": "markdown",
   "metadata": {},
   "source": [
    "## Do the samples have identical NS mutation(s)?"
   ]
  },
  {
   "cell_type": "code",
   "execution_count": null,
   "metadata": {
    "collapsed": false
   },
   "outputs": [],
   "source": [
    "identical_mut_maf = dfa[(dfa[\"ANN[*].IMPACT\"].str.contains(\"MODERATE\") | dfa[\"ANN[*].IMPACT\"].str.contains(\"HIGH\")) & (dfa.val_maf > 0)].groupby([\"sample\", \"chrom\", \"pos\", \"val_ref\", \"val_alt\", \"ANN[*].GENE\", \"ANN[*].HGVS_P\"]).val_maf.max().unstack(\"sample\").fillna(0)\n",
    "identical_mut_maf = identical_mut_maf.reindex_axis(PARAMETERS[\"sample_order\"], axis=1)"
   ]
  },
  {
   "cell_type": "code",
   "execution_count": null,
   "metadata": {
    "collapsed": false
   },
   "outputs": [],
   "source": [
    "sns.clustermap(identical_mut_maf.astype(bool)[identical_mut_maf.astype(bool).apply(lambda x: x.sum(), axis = 1) >= PARAMETERS[\"min_nr_samples_with_mutation\"]], \n",
    "               row_cluster=False, col_cluster=False, figsize=[12, 12])\n",
    "sns.plt.title(\"Mutation existence\")"
   ]
  },
  {
   "cell_type": "markdown",
   "metadata": {},
   "source": [
    "## What is the MAF of the identical NS mutation(s)?"
   ]
  },
  {
   "cell_type": "code",
   "execution_count": null,
   "metadata": {
    "collapsed": false
   },
   "outputs": [],
   "source": [
    "sns.clustermap(identical_mut_maf[identical_mut_maf.astype(bool).apply(lambda x: x.sum(), axis = 1) >= PARAMETERS[\"min_nr_samples_with_mutation\"]],\n",
    "               row_cluster=False, col_cluster=False, figsize=[12, 12], annot=True)\n",
    "sns.plt.title(\"MAF per mutation\")"
   ]
  },
  {
   "cell_type": "markdown",
   "metadata": {},
   "source": [
    "## What is the max MAF of each gene with NS mutation(s)?"
   ]
  },
  {
   "cell_type": "code",
   "execution_count": null,
   "metadata": {
    "collapsed": false
   },
   "outputs": [],
   "source": [
    "gene_max_maf = dfa_split[dfa_split[\"IMPACT_SPLIT\"].isin([\"MODERATE\", \"HIGH\"]) & (dfa_split.val_maf > 0)].groupby([\"sample\", \"GENE_SPLIT\"]).val_maf.max().unstack(\"sample\").fillna(0)\n",
    "gene_max_maf = gene_max_maf.reindex_axis(PARAMETERS[\"sample_order\"], axis=1)"
   ]
  },
  {
   "cell_type": "code",
   "execution_count": null,
   "metadata": {
    "collapsed": false
   },
   "outputs": [],
   "source": [
    "sns.clustermap(gene_max_maf[gene_max_maf.astype(bool).apply(lambda x: x.sum(), axis = 1) >= PARAMETERS[\"min_nr_samples_with_mutation\"]],\n",
    "               row_cluster=False, col_cluster=False, figsize=[12, 12], annot=True)\n",
    "sns.plt.title(\"Max mutation MAF per gene\")"
   ]
  }
 ],
 "metadata": {
  "kernelspec": {
   "display_name": "Python 2",
   "language": "python",
   "name": "python2"
  },
  "language_info": {
   "codemirror_mode": {
    "name": "ipython",
    "version": 2
   },
   "file_extension": ".py",
   "mimetype": "text/x-python",
   "name": "python",
   "nbconvert_exporter": "python",
   "pygments_lexer": "ipython2",
   "version": "2.7.11"
  }
 },
 "nbformat": 4,
 "nbformat_minor": 0
}
